{
 "cells": [
  {
   "cell_type": "code",
   "execution_count": 65,
   "metadata": {},
   "outputs": [],
   "source": [
    "import pandas as pd \n",
    "import numpy as np"
   ]
  },
  {
   "cell_type": "code",
   "execution_count": 66,
   "metadata": {},
   "outputs": [
    {
     "data": {
      "text/html": [
       "<div>\n",
       "<style scoped>\n",
       "    .dataframe tbody tr th:only-of-type {\n",
       "        vertical-align: middle;\n",
       "    }\n",
       "\n",
       "    .dataframe tbody tr th {\n",
       "        vertical-align: top;\n",
       "    }\n",
       "\n",
       "    .dataframe thead th {\n",
       "        text-align: right;\n",
       "    }\n",
       "</style>\n",
       "<table border=\"1\" class=\"dataframe\">\n",
       "  <thead>\n",
       "    <tr style=\"text-align: right;\">\n",
       "      <th></th>\n",
       "      <th>Unnamed: 0</th>\n",
       "      <th>codigoFipe</th>\n",
       "      <th>marca</th>\n",
       "      <th>modelo</th>\n",
       "      <th>anoModelo</th>\n",
       "      <th>mesReferencia</th>\n",
       "      <th>anoReferencia</th>\n",
       "      <th>valor</th>\n",
       "    </tr>\n",
       "  </thead>\n",
       "  <tbody>\n",
       "    <tr>\n",
       "      <th>0</th>\n",
       "      <td>0</td>\n",
       "      <td>038003-2</td>\n",
       "      <td>Acura</td>\n",
       "      <td>Integra GS 1.8</td>\n",
       "      <td>1992</td>\n",
       "      <td>11</td>\n",
       "      <td>2016</td>\n",
       "      <td>13041.0</td>\n",
       "    </tr>\n",
       "    <tr>\n",
       "      <th>1</th>\n",
       "      <td>1</td>\n",
       "      <td>038001-6</td>\n",
       "      <td>Acura</td>\n",
       "      <td>NSX 3.0</td>\n",
       "      <td>1995</td>\n",
       "      <td>3</td>\n",
       "      <td>2013</td>\n",
       "      <td>52339.0</td>\n",
       "    </tr>\n",
       "    <tr>\n",
       "      <th>2</th>\n",
       "      <td>2</td>\n",
       "      <td>038003-2</td>\n",
       "      <td>Acura</td>\n",
       "      <td>Integra GS 1.8</td>\n",
       "      <td>1992</td>\n",
       "      <td>3</td>\n",
       "      <td>2018</td>\n",
       "      <td>12423.0</td>\n",
       "    </tr>\n",
       "    <tr>\n",
       "      <th>3</th>\n",
       "      <td>3</td>\n",
       "      <td>038002-4</td>\n",
       "      <td>Acura</td>\n",
       "      <td>Legend 3.2/3.5</td>\n",
       "      <td>1998</td>\n",
       "      <td>5</td>\n",
       "      <td>2016</td>\n",
       "      <td>31067.0</td>\n",
       "    </tr>\n",
       "    <tr>\n",
       "      <th>4</th>\n",
       "      <td>4</td>\n",
       "      <td>038002-4</td>\n",
       "      <td>Acura</td>\n",
       "      <td>Legend 3.2/3.5</td>\n",
       "      <td>1998</td>\n",
       "      <td>2</td>\n",
       "      <td>2019</td>\n",
       "      <td>26381.0</td>\n",
       "    </tr>\n",
       "    <tr>\n",
       "      <th>...</th>\n",
       "      <td>...</td>\n",
       "      <td>...</td>\n",
       "      <td>...</td>\n",
       "      <td>...</td>\n",
       "      <td>...</td>\n",
       "      <td>...</td>\n",
       "      <td>...</td>\n",
       "      <td>...</td>\n",
       "    </tr>\n",
       "    <tr>\n",
       "      <th>466015</th>\n",
       "      <td>544147</td>\n",
       "      <td>061001-1</td>\n",
       "      <td>Walk</td>\n",
       "      <td>Buggy  Walk Sport 1.6 8V 58cv</td>\n",
       "      <td>2011</td>\n",
       "      <td>2</td>\n",
       "      <td>2015</td>\n",
       "      <td>24811.0</td>\n",
       "    </tr>\n",
       "    <tr>\n",
       "      <th>466016</th>\n",
       "      <td>544148</td>\n",
       "      <td>061001-1</td>\n",
       "      <td>Walk</td>\n",
       "      <td>Buggy  Walk Sport 1.6 8V 58cv</td>\n",
       "      <td>2022</td>\n",
       "      <td>6</td>\n",
       "      <td>2006</td>\n",
       "      <td>31503.0</td>\n",
       "    </tr>\n",
       "    <tr>\n",
       "      <th>466017</th>\n",
       "      <td>544149</td>\n",
       "      <td>061001-1</td>\n",
       "      <td>Walk</td>\n",
       "      <td>Buggy  Walk Sport 1.6 8V 58cv</td>\n",
       "      <td>2011</td>\n",
       "      <td>8</td>\n",
       "      <td>2016</td>\n",
       "      <td>23582.0</td>\n",
       "    </tr>\n",
       "    <tr>\n",
       "      <th>466018</th>\n",
       "      <td>544150</td>\n",
       "      <td>061001-1</td>\n",
       "      <td>Walk</td>\n",
       "      <td>Buggy  Walk Sport 1.6 8V 58cv</td>\n",
       "      <td>2022</td>\n",
       "      <td>7</td>\n",
       "      <td>2007</td>\n",
       "      <td>31990.0</td>\n",
       "    </tr>\n",
       "    <tr>\n",
       "      <th>466019</th>\n",
       "      <td>544151</td>\n",
       "      <td>061001-1</td>\n",
       "      <td>Walk</td>\n",
       "      <td>Buggy  Walk Sport 1.6 8V 58cv</td>\n",
       "      <td>2022</td>\n",
       "      <td>4</td>\n",
       "      <td>2009</td>\n",
       "      <td>34425.0</td>\n",
       "    </tr>\n",
       "  </tbody>\n",
       "</table>\n",
       "<p>466020 rows × 8 columns</p>\n",
       "</div>"
      ],
      "text/plain": [
       "        Unnamed: 0 codigoFipe  marca                         modelo  \\\n",
       "0                0   038003-2  Acura                 Integra GS 1.8   \n",
       "1                1   038001-6  Acura                        NSX 3.0   \n",
       "2                2   038003-2  Acura                 Integra GS 1.8   \n",
       "3                3   038002-4  Acura                 Legend 3.2/3.5   \n",
       "4                4   038002-4  Acura                 Legend 3.2/3.5   \n",
       "...            ...        ...    ...                            ...   \n",
       "466015      544147   061001-1   Walk  Buggy  Walk Sport 1.6 8V 58cv   \n",
       "466016      544148   061001-1   Walk  Buggy  Walk Sport 1.6 8V 58cv   \n",
       "466017      544149   061001-1   Walk  Buggy  Walk Sport 1.6 8V 58cv   \n",
       "466018      544150   061001-1   Walk  Buggy  Walk Sport 1.6 8V 58cv   \n",
       "466019      544151   061001-1   Walk  Buggy  Walk Sport 1.6 8V 58cv   \n",
       "\n",
       "        anoModelo  mesReferencia  anoReferencia    valor  \n",
       "0            1992             11           2016  13041.0  \n",
       "1            1995              3           2013  52339.0  \n",
       "2            1992              3           2018  12423.0  \n",
       "3            1998              5           2016  31067.0  \n",
       "4            1998              2           2019  26381.0  \n",
       "...           ...            ...            ...      ...  \n",
       "466015       2011              2           2015  24811.0  \n",
       "466016       2022              6           2006  31503.0  \n",
       "466017       2011              8           2016  23582.0  \n",
       "466018       2022              7           2007  31990.0  \n",
       "466019       2022              4           2009  34425.0  \n",
       "\n",
       "[466020 rows x 8 columns]"
      ]
     },
     "execution_count": 66,
     "metadata": {},
     "output_type": "execute_result"
    }
   ],
   "source": [
    "carros=pd.read_csv('D:\\\\Users\\\\User\\\\Downloads\\\\tabela-fipe-historico-precos.csv')\n",
    "carros"
   ]
  },
  {
   "cell_type": "code",
   "execution_count": 67,
   "metadata": {},
   "outputs": [
    {
     "data": {
      "text/plain": [
       "Unnamed: 0       466020\n",
       "codigoFipe         5283\n",
       "marca                84\n",
       "modelo             5366\n",
       "anoModelo            39\n",
       "mesReferencia        12\n",
       "anoReferencia        22\n",
       "valor            164752\n",
       "dtype: int64"
      ]
     },
     "execution_count": 67,
     "metadata": {},
     "output_type": "execute_result"
    }
   ],
   "source": [
    "#quantidades de registros\n",
    "\n",
    "registro=carros.nunique()\n",
    "registro\n"
   ]
  },
  {
   "cell_type": "code",
   "execution_count": 68,
   "metadata": {},
   "outputs": [
    {
     "data": {
      "text/plain": [
       "(466020, 8)"
      ]
     },
     "execution_count": 68,
     "metadata": {},
     "output_type": "execute_result"
    }
   ],
   "source": [
    "#linhas e colunas\n",
    "\n",
    "linhas_colunas=carros.shape\n",
    "linhas_colunas"
   ]
  },
  {
   "cell_type": "code",
   "execution_count": 69,
   "metadata": {},
   "outputs": [
    {
     "data": {
      "text/plain": [
       "Unnamed: 0         int64\n",
       "codigoFipe        object\n",
       "marca             object\n",
       "modelo            object\n",
       "anoModelo          int64\n",
       "mesReferencia      int64\n",
       "anoReferencia      int64\n",
       "valor            float64\n",
       "dtype: object"
      ]
     },
     "execution_count": 69,
     "metadata": {},
     "output_type": "execute_result"
    }
   ],
   "source": [
    "#nome e tipo de cada coluna\n",
    "\n",
    "tipo=carros.dtypes\n",
    "tipo"
   ]
  },
  {
   "cell_type": "code",
   "execution_count": 70,
   "metadata": {},
   "outputs": [
    {
     "data": {
      "text/plain": [
       "Unnamed: 0                               544151\n",
       "codigoFipe                             095004-1\n",
       "marca                                     smart\n",
       "modelo           Ë-Jumpy Cargo 136cv (Elétrico)\n",
       "anoModelo                                  2023\n",
       "mesReferencia                                12\n",
       "anoReferencia                              2022\n",
       "valor                                 8407082.0\n",
       "dtype: object"
      ]
     },
     "execution_count": 70,
     "metadata": {},
     "output_type": "execute_result"
    }
   ],
   "source": [
    "#max\n",
    "\n",
    "max=carros.max()\n",
    "max\n"
   ]
  },
  {
   "cell_type": "code",
   "execution_count": 71,
   "metadata": {},
   "outputs": [
    {
     "data": {
      "text/plain": [
       "Unnamed: 0                  0\n",
       "codigoFipe           001001-4\n",
       "marca            ASTON MARTIN\n",
       "modelo             100 2.8 V6\n",
       "anoModelo                1985\n",
       "mesReferencia               1\n",
       "anoReferencia            2001\n",
       "valor                  1871.0\n",
       "dtype: object"
      ]
     },
     "execution_count": 71,
     "metadata": {},
     "output_type": "execute_result"
    }
   ],
   "source": [
    "#min \n",
    "\n",
    "min=carros.min()\n",
    "min"
   ]
  },
  {
   "cell_type": "code",
   "execution_count": 72,
   "metadata": {},
   "outputs": [
    {
     "data": {
      "text/plain": [
       "Unnamed: 0       272398.094633\n",
       "anoModelo          2008.968325\n",
       "mesReferencia         6.453541\n",
       "anoReferencia      2015.181181\n",
       "valor            115745.599474\n",
       "Name: mean, dtype: float64"
      ]
     },
     "execution_count": 72,
     "metadata": {},
     "output_type": "execute_result"
    }
   ],
   "source": [
    "#medias\n",
    "media=carros.describe()\n",
    "media.iloc[1]\n"
   ]
  },
  {
   "cell_type": "code",
   "execution_count": 73,
   "metadata": {},
   "outputs": [
    {
     "data": {
      "text/plain": [
       "1985"
      ]
     },
     "execution_count": 73,
     "metadata": {},
     "output_type": "execute_result"
    }
   ],
   "source": [
    "##filtro do carros mais velho\n",
    "\n",
    "menor_ano=carros['anoModelo'].min()\n",
    "menor_ano"
   ]
  },
  {
   "cell_type": "code",
   "execution_count": 74,
   "metadata": {},
   "outputs": [
    {
     "data": {
      "text/plain": [
       "Unnamed: 0         100590\n",
       "codigoFipe       001105-3\n",
       "marca                Fiat\n",
       "modelo               Oggi\n",
       "anoModelo            1985\n",
       "mesReferencia           5\n",
       "anoReferencia        2022\n",
       "valor              3289.0\n",
       "Name: 92001, dtype: object"
      ]
     },
     "execution_count": 74,
     "metadata": {},
     "output_type": "execute_result"
    }
   ],
   "source": [
    "##filtro do ano mais velho e menor preço\n",
    "\n",
    "menor_preço=carros.query('anoModelo == 1985')\n",
    "menor_preço\n",
    "carros.groupby('valor').min()\n",
    "menor_preço.iloc[0]"
   ]
  },
  {
   "cell_type": "code",
   "execution_count": 76,
   "metadata": {},
   "outputs": [
    {
     "data": {
      "text/plain": [
       "codigoFipe  marca     \n",
       "001001-4    Fiat           18014.750000\n",
       "001002-2    Fiat           14847.750000\n",
       "001003-0    Fiat           14325.250000\n",
       "001004-9    Fiat           10084.000000\n",
       "001005-7    Fiat           12045.000000\n",
       "                              ...      \n",
       "093010-5    Caoa Chery    280010.000000\n",
       "095001-7    BYD           515173.600000\n",
       "095002-5    BYD           263135.666667\n",
       "095003-3    BYD           539995.000000\n",
       "095004-1    BYD           270020.000000\n",
       "Name: valor, Length: 5283, dtype: float64"
      ]
     },
     "execution_count": 76,
     "metadata": {},
     "output_type": "execute_result"
    }
   ],
   "source": [
    "###agrupamento \n",
    "\n",
    "media_valor=carros.groupby(['codigoFipe', 'marca'])['valor'].mean()\n",
    "media_valor\n"
   ]
  },
  {
   "cell_type": "code",
   "execution_count": 81,
   "metadata": {},
   "outputs": [
    {
     "name": "stdout",
     "output_type": "stream",
     "text": [
      "3\n"
     ]
    }
   ],
   "source": [
    "####Você escolhe qual opção\n",
    "\n",
    "descrição=int(input('Escolha descrição 1 para descritiva, 2 para filtra ou 3 para agrupamento'))\n",
    "print(descrição)"
   ]
  },
  {
   "cell_type": "code",
   "execution_count": 82,
   "metadata": {},
   "outputs": [
    {
     "name": "stdout",
     "output_type": "stream",
     "text": [
      "agrupamento \n",
      " (media de valores) \n",
      "codigoFipe  marca     \n",
      "001001-4    Fiat           18014.750000\n",
      "001002-2    Fiat           14847.750000\n",
      "001003-0    Fiat           14325.250000\n",
      "001004-9    Fiat           10084.000000\n",
      "001005-7    Fiat           12045.000000\n",
      "                              ...      \n",
      "093010-5    Caoa Chery    280010.000000\n",
      "095001-7    BYD           515173.600000\n",
      "095002-5    BYD           263135.666667\n",
      "095003-3    BYD           539995.000000\n",
      "095004-1    BYD           270020.000000\n",
      "Name: valor, Length: 5283, dtype: float64\n"
     ]
    }
   ],
   "source": [
    "if descrição == 1:\n",
    "    print(f'descritiva \\r\\n (registro)\\r\\n{registro} \\r\\n\\r\\n,(número linhas e coluna ){linhas_colunas},\\r\\n\\r\\n(tipo)\\r\\n{tipo},\\r\\n\\r\\n(max){max}\\r\\n\\r\\n (min){min}\\r\\n\\r\\n (media){media}')\n",
    "elif descrição == 2:\n",
    "    print(f'filtro \\r\\n (mais velho)\\r\\n{menor_ano} \\r\\n\\r\\n,(menor preço)\\r\\n{menor_preço}')\n",
    "else:\n",
    "    descrição == 3\n",
    "    print(f'agrupamento \\r\\n (media de valores) \\r\\n{media_valor}')"
   ]
  }
 ],
 "metadata": {
  "kernelspec": {
   "display_name": "Python 3",
   "language": "python",
   "name": "python3"
  },
  "language_info": {
   "codemirror_mode": {
    "name": "ipython",
    "version": 3
   },
   "file_extension": ".py",
   "mimetype": "text/x-python",
   "name": "python",
   "nbconvert_exporter": "python",
   "pygments_lexer": "ipython3",
   "version": "3.11.4"
  }
 },
 "nbformat": 4,
 "nbformat_minor": 2
}
